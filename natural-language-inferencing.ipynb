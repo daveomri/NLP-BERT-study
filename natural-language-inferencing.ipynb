{
 "cells": [
  {
   "cell_type": "markdown",
   "metadata": {},
   "source": [
    "### Contradictory, My Dear Watson\n",
    "- this notebook was created as an semestral project for the **NI-MVI**\n",
    "- the main goal of this notebook is as much to get the assigment as to fully understant the problem of **natural languege processing (NLP)**\n",
    "- I will start with basic building blocks and then build more complex things onto them\n",
    "- the result of this work will be the comparison of **basic approach**, **BERT model with neural network**, **USE with neural network** and **XLNet with neural network**"
   ]
  },
  {
   "cell_type": "markdown",
   "metadata": {},
   "source": [
    "- as I worked on this notebook in the Google colab there appeared some problems\n",
    "- I wasn't able to download some model (BERT, etc.) because of the firewall\n",
    "- for these reasons I decided to continue to work on my machine\n",
    "- following code is used to make Tensorflow work even on machine without nvidia gpu"
   ]
  },
  {
   "cell_type": "code",
   "execution_count": 326,
   "metadata": {
    "execution": {
     "iopub.execute_input": "2021-11-09T19:46:43.518975Z",
     "iopub.status.busy": "2021-11-09T19:46:43.518740Z",
     "iopub.status.idle": "2021-11-09T19:46:43.523114Z",
     "shell.execute_reply": "2021-11-09T19:46:43.522087Z",
     "shell.execute_reply.started": "2021-11-09T19:46:43.518949Z"
    }
   },
   "outputs": [],
   "source": [
    "# Import the os\n",
    "import os\n",
    "\n",
    "# Env variables\n",
    "# Set the tf log level - 2 => warnings + errors\n",
    "os.environ['TF_CPP_MIN_LOG_LEVEL'] = '2'\n",
    "\n",
    "# Silence the warnings - dissable the account key\n",
    "os.environ[\"WANDB_API_KEY\"] = \"0\"\n",
    "\n",
    "# remove the following line if your computer has gpu from nvidia\n",
    "os.environ['CUDA_VISIBLE_DEVICES'] = '-1'"
   ]
  },
  {
   "cell_type": "code",
   "execution_count": 4,
   "metadata": {
    "execution": {
     "iopub.execute_input": "2021-11-09T20:15:37.145178Z",
     "iopub.status.busy": "2021-11-09T20:15:37.144882Z",
     "iopub.status.idle": "2021-11-09T20:15:37.150314Z",
     "shell.execute_reply": "2021-11-09T20:15:37.149484Z",
     "shell.execute_reply.started": "2021-11-09T20:15:37.145146Z"
    }
   },
   "outputs": [
    {
     "name": "stdout",
     "output_type": "stream",
     "text": [
      "4.12.3\n"
     ]
    }
   ],
   "source": [
    "# Importing the libreries specific for this project\n",
    "import numpy as np\n",
    "import pandas as pd # data processing\n",
    "\n",
    "import transformers as trs\n",
    "#from transformers import AutoTokenizer, AutoModelForQuestionAnswering, BertTokenizer, TFBertModel\n",
    "import matplotlib.pyplot as plt # graphs\n",
    "import tensorflow as tf # nn\n",
    "\n",
    "from tensorflow.keras.preprocessing.text import Tokenizer\n",
    "from tensorflow.keras.preprocessing.sequence import pad_sequences"
   ]
  },
  {
   "cell_type": "markdown",
   "metadata": {},
   "source": [
    "- the following lines are used to setup the TPU in Google Colab\n",
    "- in case this notebook would be again used there"
   ]
  },
  {
   "cell_type": "code",
   "execution_count": 5,
   "metadata": {
    "execution": {
     "iopub.execute_input": "2021-11-09T19:46:50.200021Z",
     "iopub.status.busy": "2021-11-09T19:46:50.199786Z",
     "iopub.status.idle": "2021-11-09T19:46:50.217694Z",
     "shell.execute_reply": "2021-11-09T19:46:50.216710Z",
     "shell.execute_reply.started": "2021-11-09T19:46:50.199993Z"
    }
   },
   "outputs": [
    {
     "name": "stdout",
     "output_type": "stream",
     "text": [
      "Number of replicas: 1\n"
     ]
    }
   ],
   "source": [
    "# Setting up the TPU\n",
    "try:\n",
    "    # Cloud TPU workers\n",
    "    # Tensor Processing Unit\n",
    "    # AI accelator app-specific integrated circuit\n",
    "    # by Google for neural network machine learning\n",
    "    # Configurating the TPU for use\n",
    "    tpu = tf.distribute.cluster_resolver.TPUClusterResolver()\n",
    "    tf.config.experimental_connect_to_cluster(tpu)\n",
    "    tf.tpu.experimental.initialize_tpu_system(tpu)\n",
    "    strategy = tf.distribute.experimental.TPUStrategy(tpu)\n",
    "except ValueError:\n",
    "    # For CPU and single GPU\n",
    "    strategy = tf.distribute.get_strategy()\n",
    "    print(\"Number of replicas:\", strategy.num_replicas_in_sync)"
   ]
  },
  {
   "cell_type": "markdown",
   "metadata": {},
   "source": [
    "##### Understating the data\n",
    "- it's good to meet a bit the data before we use them blidly\n",
    "- to see what they look like, what can we expect from them\n",
    "- as the first thing we have to load them"
   ]
  },
  {
   "cell_type": "code",
   "execution_count": 6,
   "metadata": {
    "execution": {
     "iopub.execute_input": "2021-11-09T19:46:50.220017Z",
     "iopub.status.busy": "2021-11-09T19:46:50.219575Z",
     "iopub.status.idle": "2021-11-09T19:46:50.385488Z",
     "shell.execute_reply": "2021-11-09T19:46:50.384432Z",
     "shell.execute_reply.started": "2021-11-09T19:46:50.219970Z"
    }
   },
   "outputs": [],
   "source": [
    "# Downloading data\n",
    "# labels - useful info for later use\n",
    "# ------\n",
    "# 0 - entailment\n",
    "# 1 - neutral\n",
    "# 2 - contradiction\n",
    "train = pd.read_csv(\"input/contradictory-my-dear-watson/train.csv\")\n",
    "test = pd.read_csv(\"input/contradictory-my-dear-watson/test.csv\")"
   ]
  },
  {
   "cell_type": "markdown",
   "metadata": {},
   "source": [
    "- data visualization"
   ]
  },
  {
   "cell_type": "code",
   "execution_count": 333,
   "metadata": {
    "execution": {
     "iopub.execute_input": "2021-11-09T19:46:50.387180Z",
     "iopub.status.busy": "2021-11-09T19:46:50.386917Z",
     "iopub.status.idle": "2021-11-09T19:46:50.411180Z",
     "shell.execute_reply": "2021-11-09T19:46:50.410276Z",
     "shell.execute_reply.started": "2021-11-09T19:46:50.387149Z"
    }
   },
   "outputs": [
    {
     "name": "stdout",
     "output_type": "stream",
     "text": [
      "Train shape:\t(12120, 6)\n",
      "Test shape:\t(5195, 5)\n"
     ]
    }
   ],
   "source": [
    "# Print the shape of data\n",
    "# shape[0] - number of data\n",
    "# shape[1] - number of features\n",
    "print(\"Train shape:\\t{}\".format(train.shape))\n",
    "print(\"Test shape:\\t{}\".format(test.shape))"
   ]
  },
  {
   "cell_type": "markdown",
   "metadata": {},
   "source": [
    "- in the test data there is no feature **label** that would tell what is the relationship between premise and hypothesis\n",
    "- except that, all other features are the same"
   ]
  },
  {
   "cell_type": "code",
   "execution_count": 101,
   "metadata": {
    "execution": {
     "iopub.execute_input": "2021-11-09T19:46:50.412714Z",
     "iopub.status.busy": "2021-11-09T19:46:50.412416Z",
     "iopub.status.idle": "2021-11-09T19:46:50.424276Z",
     "shell.execute_reply": "2021-11-09T19:46:50.423445Z",
     "shell.execute_reply.started": "2021-11-09T19:46:50.412674Z"
    }
   },
   "outputs": [
    {
     "name": "stdout",
     "output_type": "stream",
     "text": [
      "Premise:\n",
      "These are issues that we wrestle with in practice groups of law firms, she said. \n",
      "\n",
      "Hypothesis:\n",
      "Practice groups are not permitted to work on these issues.\n",
      "\n",
      "Label:\n",
      "2\n"
     ]
    }
   ],
   "source": [
    "# Print the data example\n",
    "print(\"Premise:\\n{}\\n\".format(train.premise.values[1]))\n",
    "print(\"Hypothesis:\\n{}\\n\".format(train.hypothesis.values[1]))\n",
    "print(\"Label:\\n{}\".format(train.label.values[1]))"
   ]
  },
  {
   "cell_type": "markdown",
   "metadata": {},
   "source": [
    "- "
   ]
  },
  {
   "cell_type": "code",
   "execution_count": 14,
   "metadata": {
    "execution": {
     "iopub.execute_input": "2021-11-09T19:46:50.426258Z",
     "iopub.status.busy": "2021-11-09T19:46:50.425793Z",
     "iopub.status.idle": "2021-11-09T19:46:50.724708Z",
     "shell.execute_reply": "2021-11-09T19:46:50.723921Z",
     "shell.execute_reply.started": "2021-11-09T19:46:50.426217Z"
    }
   },
   "outputs": [
    {
     "data": {
      "image/png": "[encoded data removed]",
      "text/plain": [
       "<Figure size 720x720 with 1 Axes>"
      ]
     },
     "metadata": {},
     "output_type": "display_data"
    }
   ],
   "source": [
    "# Show the distribution of languages in the training set\n",
    "labels, frequencies = np.unique(train.language.values, return_counts = True)\n",
    "\n",
    "plt.figure(figsize = (10,10))\n",
    "plt.pie(frequencies,labels = labels, autopct = '%1.1f%%')\n",
    "plt.title(\"Train set\")\n",
    "plt.show()"
   ]
  },
  {
   "cell_type": "code",
   "execution_count": 15,
   "metadata": {},
   "outputs": [
    {
     "data": {
      "image/png": "[encoded data removed]",
      "text/plain": [
       "<Figure size 720x720 with 1 Axes>"
      ]
     },
     "metadata": {},
     "output_type": "display_data"
    }
   ],
   "source": [
    "# Show the distribution of languages in the test set\n",
    "labels, frequencies = np.unique(test.language.values, return_counts = True)\n",
    "\n",
    "plt.figure(figsize = (10,10))\n",
    "plt.pie(frequencies,labels = labels, autopct = '%1.1f%%')\n",
    "plt.title(\"Test set\")\n",
    "plt.show()"
   ]
  },
  {
   "cell_type": "markdown",
   "metadata": {},
   "source": [
    "### Used approaches"
   ]
  },
  {
   "cell_type": "markdown",
   "metadata": {},
   "source": [
    "The following code is the first step for understanding these problems\n",
    "- ###### My basic tokenizer"
   ]
  },
  {
   "cell_type": "code",
   "execution_count": 122,
   "metadata": {},
   "outputs": [],
   "source": [
    "# First use my basic encoding approach\n",
    "def basic_tokenizer(num_words, sentences):\n",
    "    tokenizer = Tokenizer(num_words=num_words, oov_token=\"<OOV>\")\n",
    "    tokenizer.fit_on_texts(sentences)\n",
    "    \n",
    "    return tokenizer"
   ]
  },
  {
   "cell_type": "code",
   "execution_count": 321,
   "metadata": {},
   "outputs": [],
   "source": [
    "train_en = train[train.lang_abv == 'en'].iloc[:8000]\n",
    "test_en = train[train.lang_abv == 'en']#.iloc[8000:]"
   ]
  },
  {
   "cell_type": "code",
   "execution_count": 322,
   "metadata": {},
   "outputs": [
    {
     "data": {
      "text/plain": [
       "13941"
      ]
     },
     "metadata": {},
     "output_type": "display_data"
    }
   ],
   "source": [
    "t = Tokenizer(oov_token=\"<OOV>\")\n",
    "t.fit_on_texts(train_en.premise.values + train_en.hypothesis.values)\n",
    "x_dict = t.word_index\n",
    "\n",
    "display(len(x_dict))"
   ]
  },
  {
   "cell_type": "code",
   "execution_count": 323,
   "metadata": {},
   "outputs": [],
   "source": [
    "# My first basic model on english sentences\n",
    "def first_model():\n",
    "    max_sentence_length = 50\n",
    "    pad_type = \"post\"\n",
    "    trun_type = \"post\"\n",
    "    # Create the tokenizer\n",
    "    num_words = 8000\n",
    "    tokenizer = basic_tokenizer(num_words, train_en.premise.values + train_en.hypothesis.values)\n",
    "    \n",
    "    \n",
    "    # Tokenize the training data\n",
    "    train_premise = tokenizer.texts_to_sequences(train_en.premise.values)\n",
    "    train_hypothesis = tokenizer.texts_to_sequences(train_en.hypothesis.values)\n",
    "    \n",
    "    # Pad the training data\n",
    "    train_pad_premise = pad_sequences(train_premise, maxlen=max_sentence_length, padding=pad_type, truncating=trun_type)\n",
    "    train_pad_hypothesis = pad_sequences(train_hypothesis, maxlen=max_sentence_length, padding=pad_type, truncating=trun_type)\n",
    "\n",
    "    # Define the layers\n",
    "    model = tf.keras.Sequential(\n",
    "        [\n",
    "            tf.keras.Input((2*max_sentence_length,)),\n",
    "            tf.keras.layers.Embedding(num_words, 9, input_length=2*max_sentence_length),\n",
    "            tf.keras.layers.Flatten(),\n",
    "            tf.keras.layers.Dense(120, activation='relu'),\n",
    "            tf.keras.layers.Dense(64, activation='relu'),\n",
    "            tf.keras.layers.Dense(3, activation='softmax'),\n",
    "        ]\n",
    "    )\n",
    "    \n",
    "    \n",
    "    model.compile(\n",
    "        loss=tf.keras.losses.SparseCategoricalCrossentropy(from_logits=True),\n",
    "        optimizer=tf.keras.optimizers.Adam(learning_rate=0.001),\n",
    "        metrics=[\"accuracy\"],\n",
    "    )\n",
    "    \n",
    "    concat_arrs_train = []\n",
    "    \n",
    "    for i in range(0, len(train_pad_premise)):\n",
    "        concat_arrs_train.append(np.hstack((train_pad_premise[i], train_pad_hypothesis[i])))\n",
    "            \n",
    "    \n",
    "    concat_arrs_train = np.array(concat_arrs_train)\n",
    "    \n",
    "    # Test the model\n",
    "    # Tokenize the training data\n",
    "    test_premise = tokenizer.texts_to_sequences(test_en.premise.values)\n",
    "    test_hypothesis = tokenizer.texts_to_sequences(test_en.hypothesis.values)\n",
    "\n",
    "    # Pad the training data\n",
    "    test_pad_premise = pad_sequences(test_premise, maxlen=max_sentence_length, padding=pad_type, truncating=trun_type)\n",
    "    test_pad_hypothesis = pad_sequences(test_hypothesis, maxlen=max_sentence_length, padding=pad_type, truncating=trun_type)\n",
    "    \n",
    "    concat_arrs_test = []\n",
    "    \n",
    "    for i in range(0, len(train_pad_premise)):\n",
    "        concat_arrs_test.append(np.hstack((train_pad_premise[i], train_pad_hypothesis[i])))\n",
    "    \n",
    "    concat_arrs_test = np.array(concat_arrs_test)\n",
    "    \n",
    "    # Train and validate the nn\n",
    "    model.fit(concat_arrs_train, train_en.label.values, epochs=30, validation_data=(concat_arrs_test, test_en.label.values))\n",
    "    \n",
    "    return model"
   ]
  },
  {
   "cell_type": "code",
   "execution_count": 324,
   "metadata": {},
   "outputs": [
    {
     "name": "stdout",
     "output_type": "stream",
     "text": [
      "Model: \"sequential_19\"\n",
      "_________________________________________________________________\n",
      " Layer (type)                Output Shape              Param #   \n",
      "=================================================================\n",
      " embedding_88 (Embedding)    (None, 100, 9)            72000     \n",
      "                                                                 \n",
      " flatten_5 (Flatten)         (None, 900)               0         \n",
      "                                                                 \n",
      " dense_162 (Dense)           (None, 120)               108120    \n",
      "                                                                 \n",
      " dense_163 (Dense)           (None, 64)                7744      \n",
      "                                                                 \n",
      " dense_164 (Dense)           (None, 3)                 195       \n",
      "                                                                 \n",
      "=================================================================\n",
      "Total params: 188,059\n",
      "Trainable params: 188,059\n",
      "Non-trainable params: 0\n",
      "_________________________________________________________________\n"
     ]
    },
    {
     "data": {
      "text/plain": [
       "None"
      ]
     },
     "metadata": {},
     "output_type": "display_data"
    },
    {
     "name": "stdout",
     "output_type": "stream",
     "text": [
      "Epoch 1/30\n",
      "215/215 [==============================] - 2s 6ms/step - loss: 1.0982 - accuracy: 0.3453 - val_loss: 1.0771 - val_accuracy: 0.4192\n",
      "Epoch 2/30\n",
      "215/215 [==============================] - 1s 5ms/step - loss: 1.0357 - accuracy: 0.4603 - val_loss: 0.8386 - val_accuracy: 0.6790\n",
      "Epoch 3/30\n",
      "215/215 [==============================] - 1s 5ms/step - loss: 0.7996 - accuracy: 0.6482 - val_loss: 0.5327 - val_accuracy: 0.8448\n",
      "Epoch 4/30\n",
      "215/215 [==============================] - 1s 5ms/step - loss: 0.4848 - accuracy: 0.8111 - val_loss: 0.2537 - val_accuracy: 0.9250\n",
      "Epoch 5/30\n",
      "215/215 [==============================] - 1s 5ms/step - loss: 0.2724 - accuracy: 0.9039 - val_loss: 0.1540 - val_accuracy: 0.9575\n",
      "Epoch 6/30\n",
      "215/215 [==============================] - 1s 5ms/step - loss: 0.1612 - accuracy: 0.9464 - val_loss: 0.0833 - val_accuracy: 0.9744\n",
      "Epoch 7/30\n",
      "215/215 [==============================] - 1s 5ms/step - loss: 0.1018 - accuracy: 0.9649 - val_loss: 0.0524 - val_accuracy: 0.9843\n",
      "Epoch 8/30\n",
      "215/215 [==============================] - 1s 5ms/step - loss: 0.0646 - accuracy: 0.9793 - val_loss: 0.0338 - val_accuracy: 0.9905\n",
      "Epoch 9/30\n",
      "215/215 [==============================] - 1s 5ms/step - loss: 0.0450 - accuracy: 0.9857 - val_loss: 0.0252 - val_accuracy: 0.9929\n",
      "Epoch 10/30\n",
      "215/215 [==============================] - 1s 5ms/step - loss: 0.0340 - accuracy: 0.9904 - val_loss: 0.0207 - val_accuracy: 0.9939\n",
      "Epoch 11/30\n",
      "215/215 [==============================] - 1s 5ms/step - loss: 0.0258 - accuracy: 0.9907 - val_loss: 0.0151 - val_accuracy: 0.9955\n",
      "Epoch 12/30\n",
      "215/215 [==============================] - 1s 5ms/step - loss: 0.0193 - accuracy: 0.9930 - val_loss: 0.0126 - val_accuracy: 0.9968\n",
      "Epoch 13/30\n",
      "215/215 [==============================] - 1s 5ms/step - loss: 0.0169 - accuracy: 0.9939 - val_loss: 0.0121 - val_accuracy: 0.9969\n",
      "Epoch 14/30\n",
      "215/215 [==============================] - 1s 5ms/step - loss: 0.0122 - accuracy: 0.9961 - val_loss: 0.0087 - val_accuracy: 0.9975\n",
      "Epoch 15/30\n",
      "215/215 [==============================] - 1s 5ms/step - loss: 0.0116 - accuracy: 0.9956 - val_loss: 0.0108 - val_accuracy: 0.9975\n",
      "Epoch 16/30\n",
      "215/215 [==============================] - 1s 5ms/step - loss: 0.0112 - accuracy: 0.9959 - val_loss: 0.0066 - val_accuracy: 0.9981\n",
      "Epoch 17/30\n",
      "215/215 [==============================] - 1s 5ms/step - loss: 0.0112 - accuracy: 0.9969 - val_loss: 0.0074 - val_accuracy: 0.9984\n",
      "Epoch 18/30\n",
      "215/215 [==============================] - 1s 5ms/step - loss: 0.0111 - accuracy: 0.9974 - val_loss: 0.0044 - val_accuracy: 0.9985\n",
      "Epoch 19/30\n",
      "215/215 [==============================] - 1s 5ms/step - loss: 0.0066 - accuracy: 0.9972 - val_loss: 0.0076 - val_accuracy: 0.9988\n",
      "Epoch 20/30\n",
      "215/215 [==============================] - 1s 5ms/step - loss: 0.0120 - accuracy: 0.9975 - val_loss: 0.0050 - val_accuracy: 0.9988\n",
      "Epoch 21/30\n",
      "215/215 [==============================] - 1s 5ms/step - loss: 0.0109 - accuracy: 0.9975 - val_loss: 0.0098 - val_accuracy: 0.9972\n",
      "Epoch 22/30\n",
      "215/215 [==============================] - 1s 5ms/step - loss: 0.0264 - accuracy: 0.9933 - val_loss: 0.0227 - val_accuracy: 0.9945\n",
      "Epoch 23/30\n",
      "215/215 [==============================] - 1s 5ms/step - loss: 0.0455 - accuracy: 0.9872 - val_loss: 0.0520 - val_accuracy: 0.9886\n",
      "Epoch 24/30\n",
      "215/215 [==============================] - 1s 5ms/step - loss: 0.0601 - accuracy: 0.9857 - val_loss: 0.0254 - val_accuracy: 0.9929\n",
      "Epoch 25/30\n",
      "215/215 [==============================] - 1s 5ms/step - loss: 0.0335 - accuracy: 0.9898 - val_loss: 0.0181 - val_accuracy: 0.9964\n",
      "Epoch 26/30\n",
      "215/215 [==============================] - 1s 5ms/step - loss: 0.0233 - accuracy: 0.9951 - val_loss: 0.0070 - val_accuracy: 0.9984\n",
      "Epoch 27/30\n",
      "215/215 [==============================] - 1s 5ms/step - loss: 0.0072 - accuracy: 0.9983 - val_loss: 0.0031 - val_accuracy: 0.9990\n",
      "Epoch 28/30\n",
      "215/215 [==============================] - 1s 5ms/step - loss: 0.0073 - accuracy: 0.9984 - val_loss: 0.0039 - val_accuracy: 0.9990\n",
      "Epoch 29/30\n",
      "215/215 [==============================] - 1s 5ms/step - loss: 0.0043 - accuracy: 0.9984 - val_loss: 0.0023 - val_accuracy: 0.9993\n",
      "Epoch 30/30\n",
      "215/215 [==============================] - 1s 5ms/step - loss: 0.0024 - accuracy: 0.9990 - val_loss: 0.0017 - val_accuracy: 0.9994\n"
     ]
    }
   ],
   "source": [
    "display(basic_model.summary())\n",
    "basic_model = first_model()"
   ]
  },
  {
   "cell_type": "code",
   "execution_count": null,
   "metadata": {},
   "outputs": [],
   "source": []
  },
  {
   "cell_type": "code",
   "execution_count": null,
   "metadata": {},
   "outputs": [],
   "source": []
  },
  {
   "cell_type": "code",
   "execution_count": null,
   "metadata": {},
   "outputs": [],
   "source": []
  },
  {
   "cell_type": "markdown",
   "metadata": {},
   "source": [
    "- ###### BERT approach"
   ]
  },
  {
   "cell_type": "code",
   "execution_count": 10,
   "metadata": {
    "execution": {
     "iopub.execute_input": "2021-11-09T20:07:45.200729Z",
     "iopub.status.busy": "2021-11-09T20:07:45.199984Z",
     "iopub.status.idle": "2021-11-09T20:08:05.256561Z",
     "shell.execute_reply": "2021-11-09T20:08:05.255682Z",
     "shell.execute_reply.started": "2021-11-09T20:07:45.200691Z"
    }
   },
   "outputs": [],
   "source": [
    "# Download the tokenizer\n",
    "model_name = 'bert-base-multilingual-cased'\n",
    "tokenizer = BertTokenizer.from_pretrained(model_name)\n",
    "# The tokenizer is already learned, if I was about to\n",
    "# build it by myself, I could also defina the prefix\n",
    "# snowboarding -> snow, ##board, ##ing"
   ]
  },
  {
   "cell_type": "code",
   "execution_count": 11,
   "metadata": {},
   "outputs": [],
   "source": [
    "# Tokenizer turns sequence of words into arrays of numbers\n",
    "def encode_sentence(s):\n",
    "    tokens = list(tokenizer.tokenize(s))\n",
    "    # Initial token represented by 101 and final 102\n",
    "    # This line adds the [sep] token to the end of sentence\n",
    "    tokens.append('[SEP]')\n",
    "    return tokenizer.convert_tokens_to_ids(tokens)"
   ]
  },
  {
   "cell_type": "code",
   "execution_count": 12,
   "metadata": {},
   "outputs": [
    {
     "name": "stdout",
     "output_type": "stream",
     "text": [
      "[CLS] words, in, codes, [SEP]\n",
      "I love machine learning\n",
      "[146, 16138, 21432, 26901, 102]\n",
      "{'input_ids': [101, 146, 16138, 21432, 26901, 102], 'token_type_ids': [0, 0, 0, 0, 0, 0], 'attention_mask': [1, 1, 1, 1, 1, 1]}\n"
     ]
    }
   ],
   "source": [
    "print(\"[CLS] words, in, codes, [SEP]\")\n",
    "print(\"I love machine learning\\n{}\".format(encode_sentence(\"I love machine learning\")))\n",
    "print(tokenizer('I love machine learning'))\n",
    "# Following lines shows the encoding of given words in bert\n",
    "# token type has zeros and mask all 1s"
   ]
  },
  {
   "cell_type": "code",
   "execution_count": 32,
   "metadata": {},
   "outputs": [],
   "source": [
    "# Bert uses three kinds of input data\n",
    "# input word IDs, input masks, input type IDs\n",
    "\n",
    "# These allows the model to know that the premise and \n",
    "# hypothesis are distinct sentences\n",
    "# and also to ignore any padding from tokenizer\n",
    "\n",
    "# We add a [CLS] token to denote the beginning of the inputs\n",
    "# and a [SEP] token to denote the separation between the presmise\n",
    "# and the hypothesis\n",
    "\n",
    "# We also need to pad all of the inputs to be the same size\n",
    "\n",
    "# Encoding all the premise/hypothesis into BERT\n",
    "\n",
    "def bert_encode(hypotheses, premises, tokenizer, max_length=80):\n",
    "    \n",
    "    num_examples = len(hypotheses)\n",
    "    \n",
    "    # netsted encoded hypotheses\n",
    "    sentence1 = tf.ragged.constant([\n",
    "      encode_sentence(s)\n",
    "      for s in np.array(hypotheses)])\n",
    "    print(sentence1.shape)\n",
    "    # nested encoded premises\n",
    "    sentence2 = tf.ragged.constant([\n",
    "       encode_sentence(s)\n",
    "       for s in np.array(premises)])\n",
    "    print(sentence2.shape)\n",
    "\n",
    "    # sentense1.shape[0] of cls -> 101 for each sentence 1\n",
    "    cls = [tokenizer.convert_tokens_to_ids(['[CLS]'])]*sentence1.shape[0]\n",
    "    # Concatenates tensors along one dimension\n",
    "    input_word_ids = tf.concat([cls, sentence1, sentence2], axis=-1)\n",
    "    \n",
    "    # Creates the same shape of array just with ones\n",
    "    input_mask = tf.ones_like(input_word_ids).to_tensor()\n",
    "    \n",
    "    type_cls = tf.zeros_like(cls)\n",
    "    type_s1 = tf.zeros_like(sentence1)\n",
    "    type_s2 = tf.ones_like(sentence2)\n",
    "    input_type_ids = tf.concat(\n",
    "        [type_cls, type_s1, type_s2], axis=-1).to_tensor()\n",
    "\n",
    "    inputs = {\n",
    "        'input_word_ids': input_word_ids.to_tensor(),\n",
    "        'input_mask': input_mask,\n",
    "        'input_type_ids': input_type_ids\n",
    "    }\n",
    "    \n",
    "    return inputs\n",
    "    "
   ]
  },
  {
   "cell_type": "code",
   "execution_count": 33,
   "metadata": {},
   "outputs": [
    {
     "name": "stdout",
     "output_type": "stream",
     "text": [
      "(12120, None)\n",
      "(12120, None)\n"
     ]
    }
   ],
   "source": [
    "train_input = bert_encode(train.premise.values, train.hypothesis.values, tokenizer)"
   ]
  },
  {
   "cell_type": "code",
   "execution_count": 24,
   "metadata": {},
   "outputs": [
    {
     "name": "stdout",
     "output_type": "stream",
     "text": [
      "Max premise length:\n",
      "967\n",
      "Max hypothesis length:\n",
      "276\n",
      "{'input_word_ids': <tf.Tensor: shape=(12120, 259), dtype=int32, numpy=\n",
      "array([[  101, 10111, 11762, ...,     0,     0,     0],\n",
      "       [  101, 13252, 10301, ...,     0,     0,     0],\n",
      "       [  101, 13810, 32181, ...,     0,     0,     0],\n",
      "       ...,\n",
      "       [  101, 10117, 12452, ...,     0,     0,     0],\n",
      "       [  101, 11699, 10105, ...,     0,     0,     0],\n",
      "       [  101, 11399, 14764, ...,     0,     0,     0]], dtype=int32)>, 'input_mask': <tf.Tensor: shape=(12120, 259), dtype=int32, numpy=\n",
      "array([[1, 1, 1, ..., 0, 0, 0],\n",
      "       [1, 1, 1, ..., 0, 0, 0],\n",
      "       [1, 1, 1, ..., 0, 0, 0],\n",
      "       ...,\n",
      "       [1, 1, 1, ..., 0, 0, 0],\n",
      "       [1, 1, 1, ..., 0, 0, 0],\n",
      "       [1, 1, 1, ..., 0, 0, 0]], dtype=int32)>, 'input_type_ids': <tf.Tensor: shape=(12120, 259), dtype=int32, numpy=\n",
      "array([[0, 0, 0, ..., 0, 0, 0],\n",
      "       [0, 0, 0, ..., 0, 0, 0],\n",
      "       [0, 0, 0, ..., 0, 0, 0],\n",
      "       ...,\n",
      "       [0, 0, 0, ..., 0, 0, 0],\n",
      "       [0, 0, 0, ..., 0, 0, 0],\n",
      "       [0, 0, 0, ..., 0, 0, 0]], dtype=int32)>}\n",
      "[[101], [101], [101], [101], [101], [101], [101], [101], [101], [101]]\n"
     ]
    }
   ],
   "source": [
    "lengths_p = train.premise.str.len()\n",
    "lengths_h = train.hypothesis.str.len()\n",
    "print(\"Max premise length:\\n{}\".format(lengths_p.max()))\n",
    "print(\"Max hypothesis length:\\n{}\".format(lengths_h.max()))\n",
    "\n",
    "print(train_input)"
   ]
  },
  {
   "cell_type": "markdown",
   "metadata": {},
   "source": [
    "Above we can see, there are three parts in the train_input\n",
    "\n",
    "- input_words_ids \n",
    "    - encoded sentence, with tokens from both sides\n",
    "    - all sentences are sized to same length and filled with 0\n",
    "- input_mask\n",
    "    - 1s where are the ids of sentence, 0s where not\n",
    "- input_type_ids\n",
    "    - filled with zeros"
   ]
  },
  {
   "cell_type": "markdown",
   "metadata": {},
   "source": [
    "In this part of the notebook I'll focuss on the creation and the learning process of the models\n",
    "\n",
    "I would also like to test different approaches to solving this problem\n",
    "\n",
    "As first I will start with the basic ones and then gradually go to more advanced ones"
   ]
  },
  {
   "cell_type": "code",
   "execution_count": null,
   "metadata": {},
   "outputs": [],
   "source": [
    "    "
   ]
  },
  {
   "cell_type": "code",
   "execution_count": 15,
   "metadata": {},
   "outputs": [],
   "source": [
    "# Maximal length of the layer\n",
    "max_len = 50\n",
    "\n",
    "def second_model():\n",
    "    # Now I'll use the bert model\n",
    "    # Bert is a stack of Transformer’s Encoder\n",
    "    # Bert Base:  L=12, H=768,  A=12 -> 110M params\n",
    "    # Bert Large: L=24, H=1024, A=16 -> 340M params\n",
    "    bert_encoder = TFBertModel.from_pretrained(model_name)\n",
    "    \n",
    "    # Prepare the first layer of neural network\n",
    "    input_word_ids = tf.keras.Input(shape=(max_len,), dtype=tf.int32, name=\"input_word_ids\")\n",
    "    # Prepare the second layer of neural network\n",
    "    input_mask = tf.keras.Input(shape=(max_len,), dtype=tf.int32, name=\"input_mask\")\n",
    "    # Prepare the third layer of neural network\n",
    "    input_type_ids = tf.keras.Input(shape=(max_len,), dtype=tf.int32, name=\"input_type_ids\")\n",
    "    \n",
    "    # Connect the vectors\n",
    "    embedding = bert_encoder([input_word_ids, input_mask, input_type_ids])[0]\n",
    "    # Create the output layer\n",
    "    output = tf.keras.layers.Dense(3, activation='softmax')(embedding[:,0,:])\n",
    "    \n",
    "    # Create the model\n",
    "    model = tf.keras.Model(inputs=[input_word_ids, input_mask, input_type_ids], outputs=output)\n",
    "    # Compile the model\n",
    "    model.compile(tf.keras.optimizers.Adam(learning_rate=1e-5), loss='sparse_categorical_crossentropy', metrics=['accuracy'])\n",
    "    \n",
    "    return model\n",
    "    "
   ]
  },
  {
   "cell_type": "code",
   "execution_count": 16,
   "metadata": {
    "scrolled": true
   },
   "outputs": [
    {
     "name": "stderr",
     "output_type": "stream",
     "text": [
      "Some layers from the model checkpoint at bert-base-multilingual-cased were not used when initializing TFBertModel: ['nsp___cls', 'mlm___cls']\n",
      "- This IS expected if you are initializing TFBertModel from the checkpoint of a model trained on another task or with another architecture (e.g. initializing a BertForSequenceClassification model from a BertForPreTraining model).\n",
      "- This IS NOT expected if you are initializing TFBertModel from the checkpoint of a model that you expect to be exactly identical (initializing a BertForSequenceClassification model from a BertForSequenceClassification model).\n",
      "All the layers of TFBertModel were initialized from the model checkpoint at bert-base-multilingual-cased.\n",
      "If your task is similar to the task the model of the checkpoint was trained on, you can already use TFBertModel for predictions without further training.\n"
     ]
    },
    {
     "name": "stdout",
     "output_type": "stream",
     "text": [
      "Model: \"model\"\n",
      "__________________________________________________________________________________________________\n",
      " Layer (type)                   Output Shape         Param #     Connected to                     \n",
      "==================================================================================================\n",
      " input_word_ids (InputLayer)    [(None, 50)]         0           []                               \n",
      "                                                                                                  \n",
      " input_mask (InputLayer)        [(None, 50)]         0           []                               \n",
      "                                                                                                  \n",
      " input_type_ids (InputLayer)    [(None, 50)]         0           []                               \n",
      "                                                                                                  \n",
      " tf_bert_model (TFBertModel)    TFBaseModelOutputWi  177853440   ['input_word_ids[0][0]',         \n",
      "                                thPoolingAndCrossAt               'input_mask[0][0]',             \n",
      "                                tentions(last_hidde               'input_type_ids[0][0]']         \n",
      "                                n_state=(None, 50,                                                \n",
      "                                768),                                                             \n",
      "                                 pooler_output=(Non                                               \n",
      "                                e, 768),                                                          \n",
      "                                 past_key_values=No                                               \n",
      "                                ne, hidden_states=N                                               \n",
      "                                one, attentions=Non                                               \n",
      "                                e, cross_attentions                                               \n",
      "                                =None)                                                            \n",
      "                                                                                                  \n",
      " tf.__operators__.getitem (Slic  (None, 768)         0           ['tf_bert_model[0][0]']          \n",
      " ingOpLambda)                                                                                     \n",
      "                                                                                                  \n",
      " dense (Dense)                  (None, 3)            2307        ['tf.__operators__.getitem[0][0]'\n",
      "                                                                 ]                                \n",
      "                                                                                                  \n",
      "==================================================================================================\n",
      "Total params: 177,855,747\n",
      "Trainable params: 177,855,747\n",
      "Non-trainable params: 0\n",
      "__________________________________________________________________________________________________\n"
     ]
    }
   ],
   "source": [
    "with strategy.scope():\n",
    "    model = first_model()\n",
    "    model.summary()"
   ]
  },
  {
   "cell_type": "code",
   "execution_count": 17,
   "metadata": {},
   "outputs": [
    {
     "ename": "ValueError",
     "evalue": "in user code:\n\n    File \"/home/dave/.local/lib/python3.8/site-packages/keras/engine/training.py\", line 878, in train_function  *\n        return step_function(self, iterator)\n    File \"/home/dave/.local/lib/python3.8/site-packages/keras/engine/training.py\", line 867, in step_function  **\n        outputs = model.distribute_strategy.run(run_step, args=(data,))\n    File \"/home/dave/.local/lib/python3.8/site-packages/keras/engine/training.py\", line 860, in run_step  **\n        outputs = model.train_step(data)\n    File \"/home/dave/.local/lib/python3.8/site-packages/keras/engine/training.py\", line 808, in train_step\n        y_pred = self(x, training=True)\n    File \"/home/dave/.local/lib/python3.8/site-packages/keras/utils/traceback_utils.py\", line 67, in error_handler\n        raise e.with_traceback(filtered_tb) from None\n    File \"/home/dave/.local/lib/python3.8/site-packages/keras/engine/input_spec.py\", line 263, in assert_input_compatibility\n        raise ValueError(f'Input {input_index} of layer \"{layer_name}\" is '\n\n    ValueError: Input 0 of layer \"model\" is incompatible with the layer: expected shape=(None, 50), found shape=(32, 259)\n",
     "output_type": "error",
     "traceback": [
      "\u001b[0;31m---------------------------------------------------------------------------\u001b[0m",
      "\u001b[0;31mValueError\u001b[0m                                Traceback (most recent call last)",
      "\u001b[0;32m/tmp/ipykernel_128126/4026238670.py\u001b[0m in \u001b[0;36m<module>\u001b[0;34m\u001b[0m\n\u001b[1;32m      1\u001b[0m \u001b[0;31m# Training of the model\u001b[0m\u001b[0;34m\u001b[0m\u001b[0;34m\u001b[0m\u001b[0;34m\u001b[0m\u001b[0m\n\u001b[0;32m----> 2\u001b[0;31m \u001b[0mmodel\u001b[0m\u001b[0;34m.\u001b[0m\u001b[0mfit\u001b[0m\u001b[0;34m(\u001b[0m\u001b[0mtrain_input\u001b[0m\u001b[0;34m,\u001b[0m \u001b[0mtrain\u001b[0m\u001b[0;34m.\u001b[0m\u001b[0mlabel\u001b[0m\u001b[0;34m.\u001b[0m\u001b[0mvalues\u001b[0m\u001b[0;34m,\u001b[0m \u001b[0mepochs\u001b[0m \u001b[0;34m=\u001b[0m \u001b[0;36m1\u001b[0m\u001b[0;34m,\u001b[0m \u001b[0mverbose\u001b[0m \u001b[0;34m=\u001b[0m \u001b[0;36m1\u001b[0m\u001b[0;34m,\u001b[0m \u001b[0mbatch_size\u001b[0m \u001b[0;34m=\u001b[0m \u001b[0;36m32\u001b[0m\u001b[0;34m,\u001b[0m \u001b[0mvalidation_split\u001b[0m \u001b[0;34m=\u001b[0m \u001b[0;36m0.2\u001b[0m\u001b[0;34m)\u001b[0m\u001b[0;34m\u001b[0m\u001b[0;34m\u001b[0m\u001b[0m\n\u001b[0m",
      "\u001b[0;32m~/.local/lib/python3.8/site-packages/keras/utils/traceback_utils.py\u001b[0m in \u001b[0;36merror_handler\u001b[0;34m(*args, **kwargs)\u001b[0m\n\u001b[1;32m     65\u001b[0m     \u001b[0;32mexcept\u001b[0m \u001b[0mException\u001b[0m \u001b[0;32mas\u001b[0m \u001b[0me\u001b[0m\u001b[0;34m:\u001b[0m  \u001b[0;31m# pylint: disable=broad-except\u001b[0m\u001b[0;34m\u001b[0m\u001b[0;34m\u001b[0m\u001b[0m\n\u001b[1;32m     66\u001b[0m       \u001b[0mfiltered_tb\u001b[0m \u001b[0;34m=\u001b[0m \u001b[0m_process_traceback_frames\u001b[0m\u001b[0;34m(\u001b[0m\u001b[0me\u001b[0m\u001b[0;34m.\u001b[0m\u001b[0m__traceback__\u001b[0m\u001b[0;34m)\u001b[0m\u001b[0;34m\u001b[0m\u001b[0;34m\u001b[0m\u001b[0m\n\u001b[0;32m---> 67\u001b[0;31m       \u001b[0;32mraise\u001b[0m \u001b[0me\u001b[0m\u001b[0;34m.\u001b[0m\u001b[0mwith_traceback\u001b[0m\u001b[0;34m(\u001b[0m\u001b[0mfiltered_tb\u001b[0m\u001b[0;34m)\u001b[0m \u001b[0;32mfrom\u001b[0m \u001b[0;32mNone\u001b[0m\u001b[0;34m\u001b[0m\u001b[0;34m\u001b[0m\u001b[0m\n\u001b[0m\u001b[1;32m     68\u001b[0m     \u001b[0;32mfinally\u001b[0m\u001b[0;34m:\u001b[0m\u001b[0;34m\u001b[0m\u001b[0;34m\u001b[0m\u001b[0m\n\u001b[1;32m     69\u001b[0m       \u001b[0;32mdel\u001b[0m \u001b[0mfiltered_tb\u001b[0m\u001b[0;34m\u001b[0m\u001b[0;34m\u001b[0m\u001b[0m\n",
      "\u001b[0;32m~/.local/lib/python3.8/site-packages/tensorflow/python/framework/func_graph.py\u001b[0m in \u001b[0;36mautograph_handler\u001b[0;34m(*args, **kwargs)\u001b[0m\n\u001b[1;32m   1127\u001b[0m           \u001b[0;32mexcept\u001b[0m \u001b[0mException\u001b[0m \u001b[0;32mas\u001b[0m \u001b[0me\u001b[0m\u001b[0;34m:\u001b[0m  \u001b[0;31m# pylint:disable=broad-except\u001b[0m\u001b[0;34m\u001b[0m\u001b[0;34m\u001b[0m\u001b[0m\n\u001b[1;32m   1128\u001b[0m             \u001b[0;32mif\u001b[0m \u001b[0mhasattr\u001b[0m\u001b[0;34m(\u001b[0m\u001b[0me\u001b[0m\u001b[0;34m,\u001b[0m \u001b[0;34m\"ag_error_metadata\"\u001b[0m\u001b[0;34m)\u001b[0m\u001b[0;34m:\u001b[0m\u001b[0;34m\u001b[0m\u001b[0;34m\u001b[0m\u001b[0m\n\u001b[0;32m-> 1129\u001b[0;31m               \u001b[0;32mraise\u001b[0m \u001b[0me\u001b[0m\u001b[0;34m.\u001b[0m\u001b[0mag_error_metadata\u001b[0m\u001b[0;34m.\u001b[0m\u001b[0mto_exception\u001b[0m\u001b[0;34m(\u001b[0m\u001b[0me\u001b[0m\u001b[0;34m)\u001b[0m\u001b[0;34m\u001b[0m\u001b[0;34m\u001b[0m\u001b[0m\n\u001b[0m\u001b[1;32m   1130\u001b[0m             \u001b[0;32melse\u001b[0m\u001b[0;34m:\u001b[0m\u001b[0;34m\u001b[0m\u001b[0;34m\u001b[0m\u001b[0m\n\u001b[1;32m   1131\u001b[0m               \u001b[0;32mraise\u001b[0m\u001b[0;34m\u001b[0m\u001b[0;34m\u001b[0m\u001b[0m\n",
      "\u001b[0;31mValueError\u001b[0m: in user code:\n\n    File \"/home/dave/.local/lib/python3.8/site-packages/keras/engine/training.py\", line 878, in train_function  *\n        return step_function(self, iterator)\n    File \"/home/dave/.local/lib/python3.8/site-packages/keras/engine/training.py\", line 867, in step_function  **\n        outputs = model.distribute_strategy.run(run_step, args=(data,))\n    File \"/home/dave/.local/lib/python3.8/site-packages/keras/engine/training.py\", line 860, in run_step  **\n        outputs = model.train_step(data)\n    File \"/home/dave/.local/lib/python3.8/site-packages/keras/engine/training.py\", line 808, in train_step\n        y_pred = self(x, training=True)\n    File \"/home/dave/.local/lib/python3.8/site-packages/keras/utils/traceback_utils.py\", line 67, in error_handler\n        raise e.with_traceback(filtered_tb) from None\n    File \"/home/dave/.local/lib/python3.8/site-packages/keras/engine/input_spec.py\", line 263, in assert_input_compatibility\n        raise ValueError(f'Input {input_index} of layer \"{layer_name}\" is '\n\n    ValueError: Input 0 of layer \"model\" is incompatible with the layer: expected shape=(None, 50), found shape=(32, 259)\n"
     ]
    }
   ],
   "source": [
    "# Training of the model\n",
    "model.fit(train_input, train.label.values, epochs = 1, verbose = 1, batch_size = 32, validation_split = 0.2)"
   ]
  },
  {
   "cell_type": "code",
   "execution_count": null,
   "metadata": {},
   "outputs": [],
   "source": []
  },
  {
   "cell_type": "code",
   "execution_count": null,
   "metadata": {},
   "outputs": [],
   "source": []
  },
  {
   "cell_type": "code",
   "execution_count": null,
   "metadata": {},
   "outputs": [],
   "source": []
  }
 ],
 "metadata": {
  "kernelspec": {
   "display_name": "Python 3 (ipykernel)",
   "language": "python",
   "name": "python3"
  },
  "language_info": {
   "codemirror_mode": {
    "name": "ipython",
    "version": 3
   },
   "file_extension": ".py",
   "mimetype": "text/x-python",
   "name": "python",
   "nbconvert_exporter": "python",
   "pygments_lexer": "ipython3",
   "version": "3.8.10"
  }
 },
 "nbformat": 4,
 "nbformat_minor": 4
}
